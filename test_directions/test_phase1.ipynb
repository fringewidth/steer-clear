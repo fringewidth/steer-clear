{
 "cells": [
  {
   "cell_type": "code",
   "execution_count": 1,
   "id": "83c0de23",
   "metadata": {},
   "outputs": [
    {
     "name": "stderr",
     "output_type": "stream",
     "text": [
      "/home/jovyan/hrishik/playground/.venv/lib/python3.10/site-packages/tqdm/auto.py:21: TqdmWarning: IProgress not found. Please update jupyter and ipywidgets. See https://ipywidgets.readthedocs.io/en/stable/user_install.html\n",
      "  from .autonotebook import tqdm as notebook_tqdm\n"
     ]
    }
   ],
   "source": [
    "import torch\n",
    "import json\n",
    "import os\n",
    "import sys\n",
    "sys.path.append(os.path.abspath(\"../train\"))\n",
    "from train_commons import SharedLoRA, PromptDataset\n",
    "from transformers import AutoModelForCausalLM, AutoTokenizer\n",
    "import pandas as pd\n",
    "\n",
    "phase = 1\n",
    "scaling = 3\n",
    "\n",
    "directions = os.listdir(f\"../directions/phase{phase}\")\n",
    "directions = [os.path.join(f\"../directions/phase{phase}\", ckpt) for ckpt in directions]\n",
    "\n",
    "model_name = \"Qwen/Qwen2.5-14B-Instruct\"\n",
    "tokenizer = AutoTokenizer.from_pretrained(model_name)\n",
    "im_end_token_id = tokenizer.convert_tokens_to_ids(\"<|im_end|>\")\n",
    "\n",
    "device = torch.device(\"cuda\" if torch.cuda.is_available() else \"cpu\")\n",
    "\n",
    "test_csv = pd.read_csv(\"../datasets/test.csv\")\n",
    "full_prompts = PromptDataset(test_csv, prompt_column='full_prompt')\n",
    "original_completions = test_csv['original_completion']\n",
    "\n",
    "\n",
    "def apply_direction_hook(module, input, output, layer, direction, scale):\n",
    "    if isinstance(output, tuple):\n",
    "        hidden_state = output[0]\n",
    "        modified_hidden_state = hidden_state + scale * direction[layer].unsqueeze(0).unsqueeze(0)\n",
    "        return (modified_hidden_state,) + output[1:]\n",
    "    else:\n",
    "        modified_hidden_state = output + scale * direction[layer].unsqueeze(0).unsqueeze(0)\n",
    "        return modified_hidden_state"
   ]
  },
  {
   "cell_type": "code",
   "execution_count": 2,
   "id": "04f007fe",
   "metadata": {},
   "outputs": [
    {
     "name": "stderr",
     "output_type": "stream",
     "text": [
      "Loading checkpoint shards: 100%|██████████| 8/8 [00:06<00:00,  1.28it/s]\n"
     ]
    }
   ],
   "source": [
    "model = AutoModelForCausalLM.from_pretrained(\n",
    "    model_name,\n",
    "    device_map=\"auto\",\n",
    "    dtype=torch.bfloat16,\n",
    ")\n",
    "\n",
    "hidden_size = model.config.hidden_size\n"
   ]
  },
  {
   "cell_type": "code",
   "execution_count": null,
   "id": "b8ba087e",
   "metadata": {},
   "outputs": [],
   "source": [
    "for direction_name in directions:\n",
    "    output_file = f\"../model_outputs/phase{phase}/direction/ckpt_{direction_name.split('_')[-1].split('.')[0]}.json\"\n",
    "    os.makedirs(os.path.dirname(output_file), exist_ok=True)\n",
    "    direction = torch.load(direction_name).to(device, dtype=torch.bfloat16)\n",
    "\n",
    "    hook_handles = []\n",
    "    for i, layer in enumerate(model.model.layers):\n",
    "        handle = layer.register_forward_hook(\n",
    "            lambda module, input, output, l=i: apply_direction_hook(module, input, output, l, direction, scaling)\n",
    "        )\n",
    "        hook_handles.append(handle)\n",
    "    model_outputs = []\n",
    "    for i, (prompt, completion) in enumerate(zip(full_prompts, original_completions)):\n",
    "        inputs = tokenizer(prompt, return_tensors=\"pt\").to(device)\n",
    "        output = model.generate(**inputs, max_new_tokens=100, eos_token_id=im_end_token_id)\n",
    "        generated_tokens = output[0][inputs['input_ids'].shape[1]:]\n",
    "        output_txt = tokenizer.decode(generated_tokens, skip_special_tokens=True, eos_token_id=im_end_token_id)\n",
    "        \n",
    "        model_output = {\n",
    "            \"prompt_id\": i,\n",
    "            \"prompt\": prompt,\n",
    "            \"original_completion\": ''.join(completion.split(prompt.split(\"<|im_start|>\")[2])[1:]),\n",
    "            \"output\": output_txt\n",
    "        }\n",
    "        model_outputs.append(model_output)\n",
    "\n",
    "    with open(output_file, \"w\") as f:\n",
    "        json.dump(model_outputs, f, indent=2)\n",
    "\n",
    "    for handle in hook_handles:\n",
    "        handle.remove()\n",
    "\n",
    "del model"
   ]
  }
 ],
 "metadata": {
  "kernelspec": {
   "display_name": ".venv",
   "language": "python",
   "name": "python3"
  },
  "language_info": {
   "codemirror_mode": {
    "name": "ipython",
    "version": 3
   },
   "file_extension": ".py",
   "mimetype": "text/x-python",
   "name": "python",
   "nbconvert_exporter": "python",
   "pygments_lexer": "ipython3",
   "version": "3.10.12"
  }
 },
 "nbformat": 4,
 "nbformat_minor": 5
}
