{
 "cells": [
  {
   "cell_type": "code",
   "execution_count": 42,
   "id": "bf203844",
   "metadata": {},
   "outputs": [
    {
     "data": {
      "text/plain": [
       "\"<|im_start|>human1\\nDude, do you ever think we're living in a simulation?\\n<|im_end|>\\n\\n<|im_start|>human2\""
      ]
     },
     "execution_count": 42,
     "metadata": {},
     "output_type": "execute_result"
    }
   ],
   "source": [
    "import pandas as pd\n",
    "\n",
    "df = pd.read_csv(\"scenarios_uncleaned.csv\")\n",
    "df['prompt'][0]"
   ]
  },
  {
   "cell_type": "code",
   "execution_count": null,
   "id": "5ac2c06e",
   "metadata": {},
   "outputs": [],
   "source": [
    "from scenarios_model import scenarios_json\n",
    "\n",
    "# Create mapping\n",
    "template_map = {s['name']: s['context'] for s in scenarios_json}\n",
    "\n",
    "# Map and concatenate\n",
    "df['full_prompt'] = df['category'].map(template_map) + \"\\n\" + df['prompt']"
   ]
  },
  {
   "cell_type": "code",
   "execution_count": null,
   "id": "eff3893a",
   "metadata": {},
   "outputs": [
    {
     "name": "stderr",
     "output_type": "stream",
     "text": [
      "Loading checkpoint shards: 100%|██████████| 8/8 [00:06<00:00,  1.22it/s]\n"
     ]
    }
   ],
   "source": [
    "from transformers import AutoModelForCausalLM, AutoTokenizer\n",
    "import torch\n",
    "\n",
    "model_name = \"Qwen/Qwen2.5-14B-Instruct\"\n",
    "model = AutoModelForCausalLM.from_pretrained(model_name, torch_dtype=torch.float16, device_map={\"\": \"cuda:0\"})\n",
    "tokenizer = AutoTokenizer.from_pretrained(model_name, padding_side=\"left\")"
   ]
  },
  {
   "cell_type": "code",
   "execution_count": 49,
   "id": "a9c0bfad",
   "metadata": {},
   "outputs": [],
   "source": [
    "prompts = df['full_prompt'].tolist()\n",
    "\n",
    "all_outputs = []\n",
    "batch_size = len(df)\n",
    "\n",
    "for i in range(0, len(prompts), batch_size):\n",
    "    batch_prompts = prompts[i:i+batch_size]\n",
    "    # decode all escape sequences like \\n, \\t, \\; etc.\n",
    "    batch_prompts = [bytes(p, \"utf-8\").decode(\"unicode_escape\") for p in batch_prompts]\n",
    "    \n",
    "    inputs = tokenizer(batch_prompts, padding=True, truncation=True, return_tensors=\"pt\").to(\"cuda\")\n",
    "    with torch.no_grad():\n",
    "        outputs = model.generate(**inputs, max_new_tokens=100, temperature=0.7)\n",
    "    decoded = tokenizer.batch_decode(outputs, skip_special_tokens=True)\n",
    "    all_outputs.extend(decoded)\n",
    "\n",
    "df['original_completion'] = all_outputs"
   ]
  },
  {
   "cell_type": "code",
   "execution_count": 61,
   "id": "51b93e13",
   "metadata": {},
   "outputs": [],
   "source": [
    "df.to_csv(\"scenarios_cleaned.csv\", index=False)"
   ]
  }
 ],
 "metadata": {
  "kernelspec": {
   "display_name": ".venv",
   "language": "python",
   "name": "python3"
  },
  "language_info": {
   "codemirror_mode": {
    "name": "ipython",
    "version": 3
   },
   "file_extension": ".py",
   "mimetype": "text/x-python",
   "name": "python",
   "nbconvert_exporter": "python",
   "pygments_lexer": "ipython3",
   "version": "3.10.12"
  }
 },
 "nbformat": 4,
 "nbformat_minor": 5
}
