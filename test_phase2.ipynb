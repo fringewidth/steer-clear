{
 "cells": [
  {
   "cell_type": "code",
   "execution_count": 1,
   "id": "09d68edf",
   "metadata": {},
   "outputs": [
    {
     "name": "stderr",
     "output_type": "stream",
     "text": [
      "/home/jovyan/hrishik/playground/.venv/lib/python3.10/site-packages/tqdm/auto.py:21: TqdmWarning: IProgress not found. Please update jupyter and ipywidgets. See https://ipywidgets.readthedocs.io/en/stable/user_install.html\n",
      "  from .autonotebook import tqdm as notebook_tqdm\n",
      "Loading checkpoint shards: 100%|██████████| 8/8 [00:06<00:00,  1.33it/s]\n",
      "Loading checkpoint shards: 100%|██████████| 8/8 [00:05<00:00,  1.34it/s]\n",
      "Loading checkpoint shards: 100%|██████████| 8/8 [00:06<00:00,  1.33it/s]\n"
     ]
    }
   ],
   "source": [
    "import torch\n",
    "import json\n",
    "import os\n",
    "from train_commons import SharedLoRA, PromptDataset\n",
    "from transformers import AutoModelForCausalLM, AutoTokenizer\n",
    "import pandas as pd\n",
    "\n",
    "phase = 2\n",
    "\n",
    "ckpts = os.listdir(f\"divergence_adapters_phase{phase}\")\n",
    "ckpts = [os.path.join(f\"divergence_adapters_phase{phase}\", ckpt) for ckpt in ckpts]\n",
    "\n",
    "model_name = \"Qwen/Qwen2.5-14B-Instruct\"\n",
    "tokenizer = AutoTokenizer.from_pretrained(model_name)\n",
    "im_end_token_id = tokenizer.convert_tokens_to_ids(\"<|im_end|>\")\n",
    "rank = 2\n",
    "scaling = 2\n",
    "\n",
    "device = torch.device(\"cuda\" if torch.cuda.is_available() else \"cpu\")\n",
    "\n",
    "test_csv = pd.read_csv(\"datasets/test.csv\")\n",
    "full_prompts = PromptDataset(test_csv, prompt_column='full_prompt')\n",
    "original_completions = test_csv['original_completion']\n",
    "\n",
    "\n",
    "def apply_adapter_hook(module, input, output):\n",
    "    if isinstance(output, tuple):\n",
    "        hidden_state = output[0]\n",
    "        modified_hidden_state = shared_adapter(hidden_state)\n",
    "        return (modified_hidden_state,) + output[1:]\n",
    "    else:\n",
    "        modified_hidden_state = shared_adapter(output)\n",
    "        return modified_hidden_state\n",
    "\n",
    "for ckpt in ckpts:\n",
    "    output_file = f\"model_outputs/phase{phase}/ckpt_{ckpt.split('_')[-1].split('.')[0]}.json\"\n",
    "    os.makedirs(os.path.dirname(output_file), exist_ok=True)\n",
    "    model = AutoModelForCausalLM.from_pretrained(\n",
    "        model_name,\n",
    "        device_map=\"auto\",\n",
    "        dtype=torch.bfloat16,\n",
    "    )\n",
    "\n",
    "    hidden_size = model.config.hidden_size\n",
    "    shared_adapter = SharedLoRA(hidden_size, rank=rank, scaling=scaling).to(device, dtype=torch.bfloat16)\n",
    "    shared_adapter.load_state_dict(torch.load(ckpt, map_location=device))\n",
    "\n",
    "    hook_handles = []\n",
    "    for layer in model.model.layers:\n",
    "        handle = layer.register_forward_hook(apply_adapter_hook)\n",
    "        hook_handles.append(handle)\n",
    "\n",
    "    model_outputs = []\n",
    "    for i, (prompt, completion) in enumerate(zip(full_prompts, original_completions)):\n",
    "        inputs = tokenizer(prompt, return_tensors=\"pt\").to(device)\n",
    "        output = model.generate(**inputs, max_new_tokens=50, eos_token_id=im_end_token_id)\n",
    "        generated_tokens = output[0][inputs['input_ids'].shape[1]:]\n",
    "        output_txt = tokenizer.decode(generated_tokens, skip_special_tokens=True)\n",
    "        model_output = {\n",
    "            \"prompt_id\": i,\n",
    "            \"prompt\": prompt,\n",
    "            \"original_completion\": completion,\n",
    "            \"output\": output_txt\n",
    "        }\n",
    "        model_outputs.append(model_output)\n",
    "    \n",
    "    with open(output_file, \"w\") as f:\n",
    "        json.dump(model_outputs, f, indent=2)\n",
    "\n",
    "    for handle in hook_handles:\n",
    "        handle.remove()\n",
    "    del model"
   ]
  },
  {
   "cell_type": "code",
   "execution_count": 2,
   "id": "d88a4744",
   "metadata": {},
   "outputs": [
    {
     "ename": "FileNotFoundError",
     "evalue": "[Errno 2] No such file or directory: 'model_outputs/phase2/ckpt_1.json'",
     "output_type": "error",
     "traceback": [
      "\u001b[0;31m---------------------------------------------------------------------------\u001b[0m",
      "\u001b[0;31mFileNotFoundError\u001b[0m                         Traceback (most recent call last)",
      "Cell \u001b[0;32mIn[2], line 9\u001b[0m\n\u001b[1;32m      7\u001b[0m \u001b[38;5;28;01mfor\u001b[39;00m i \u001b[38;5;129;01min\u001b[39;00m \u001b[38;5;28mrange\u001b[39m(\u001b[38;5;241m1\u001b[39m, num_checkpoints \u001b[38;5;241m+\u001b[39m \u001b[38;5;241m1\u001b[39m):\n\u001b[1;32m      8\u001b[0m     input_file \u001b[38;5;241m=\u001b[39m os\u001b[38;5;241m.\u001b[39mpath\u001b[38;5;241m.\u001b[39mjoin(output_dir, \u001b[38;5;124mf\u001b[39m\u001b[38;5;124m\"\u001b[39m\u001b[38;5;124mckpt_\u001b[39m\u001b[38;5;132;01m{\u001b[39;00mi\u001b[38;5;132;01m}\u001b[39;00m\u001b[38;5;124m.json\u001b[39m\u001b[38;5;124m\"\u001b[39m)\n\u001b[0;32m----> 9\u001b[0m     \u001b[38;5;28;01mwith\u001b[39;00m \u001b[38;5;28;43mopen\u001b[39;49m\u001b[43m(\u001b[49m\u001b[43minput_file\u001b[49m\u001b[43m,\u001b[49m\u001b[43m \u001b[49m\u001b[38;5;124;43m\"\u001b[39;49m\u001b[38;5;124;43mr\u001b[39;49m\u001b[38;5;124;43m\"\u001b[39;49m\u001b[43m)\u001b[49m \u001b[38;5;28;01mas\u001b[39;00m f:\n\u001b[1;32m     10\u001b[0m         data \u001b[38;5;241m=\u001b[39m json\u001b[38;5;241m.\u001b[39mload(f)\n\u001b[1;32m     11\u001b[0m     modified_data \u001b[38;5;241m=\u001b[39m []\n",
      "File \u001b[0;32m~/hrishik/playground/.venv/lib/python3.10/site-packages/IPython/core/interactiveshell.py:324\u001b[0m, in \u001b[0;36m_modified_open\u001b[0;34m(file, *args, **kwargs)\u001b[0m\n\u001b[1;32m    317\u001b[0m \u001b[38;5;28;01mif\u001b[39;00m file \u001b[38;5;129;01min\u001b[39;00m {\u001b[38;5;241m0\u001b[39m, \u001b[38;5;241m1\u001b[39m, \u001b[38;5;241m2\u001b[39m}:\n\u001b[1;32m    318\u001b[0m     \u001b[38;5;28;01mraise\u001b[39;00m \u001b[38;5;167;01mValueError\u001b[39;00m(\n\u001b[1;32m    319\u001b[0m         \u001b[38;5;124mf\u001b[39m\u001b[38;5;124m\"\u001b[39m\u001b[38;5;124mIPython won\u001b[39m\u001b[38;5;124m'\u001b[39m\u001b[38;5;124mt let you open fd=\u001b[39m\u001b[38;5;132;01m{\u001b[39;00mfile\u001b[38;5;132;01m}\u001b[39;00m\u001b[38;5;124m by default \u001b[39m\u001b[38;5;124m\"\u001b[39m\n\u001b[1;32m    320\u001b[0m         \u001b[38;5;124m\"\u001b[39m\u001b[38;5;124mas it is likely to crash IPython. If you know what you are doing, \u001b[39m\u001b[38;5;124m\"\u001b[39m\n\u001b[1;32m    321\u001b[0m         \u001b[38;5;124m\"\u001b[39m\u001b[38;5;124myou can use builtins\u001b[39m\u001b[38;5;124m'\u001b[39m\u001b[38;5;124m open.\u001b[39m\u001b[38;5;124m\"\u001b[39m\n\u001b[1;32m    322\u001b[0m     )\n\u001b[0;32m--> 324\u001b[0m \u001b[38;5;28;01mreturn\u001b[39;00m \u001b[43mio_open\u001b[49m\u001b[43m(\u001b[49m\u001b[43mfile\u001b[49m\u001b[43m,\u001b[49m\u001b[43m \u001b[49m\u001b[38;5;241;43m*\u001b[39;49m\u001b[43margs\u001b[49m\u001b[43m,\u001b[49m\u001b[43m \u001b[49m\u001b[38;5;241;43m*\u001b[39;49m\u001b[38;5;241;43m*\u001b[39;49m\u001b[43mkwargs\u001b[49m\u001b[43m)\u001b[49m\n",
      "\u001b[0;31mFileNotFoundError\u001b[0m: [Errno 2] No such file or directory: 'model_outputs/phase2/ckpt_1.json'"
     ]
    }
   ],
   "source": [
    "import json\n",
    "\n",
    "output_dir = f\"model_outputs/phase{phase}\"\n",
    "\n",
    "num_checkpoints = len(os.listdir(output_dir))\n",
    "\n",
    "for i in range(1, num_checkpoints + 1):\n",
    "    input_file = os.path.join(output_dir, f\"ckpt_{i}.json\")\n",
    "    with open(input_file, \"r\") as f:\n",
    "        data = json.load(f)\n",
    "    modified_data = []\n",
    "    for j, d in enumerate(data):\n",
    "        new_d = { \"prompt_id\": j+1, **d }\n",
    "        modified_data.append(new_d)\n",
    "    with open(input_file, \"w\") as f:\n",
    "        json.dump(modified_data, f, indent=2)\n"
   ]
  },
  {
   "cell_type": "code",
   "execution_count": null,
   "id": "99c5644e",
   "metadata": {},
   "outputs": [],
   "source": []
  }
 ],
 "metadata": {
  "kernelspec": {
   "display_name": ".venv",
   "language": "python",
   "name": "python3"
  },
  "language_info": {
   "codemirror_mode": {
    "name": "ipython",
    "version": 3
   },
   "file_extension": ".py",
   "mimetype": "text/x-python",
   "name": "python",
   "nbconvert_exporter": "python",
   "pygments_lexer": "ipython3",
   "version": "3.10.12"
  }
 },
 "nbformat": 4,
 "nbformat_minor": 5
}
