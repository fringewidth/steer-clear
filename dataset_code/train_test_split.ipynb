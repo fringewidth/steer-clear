{
 "cells": [
  {
   "cell_type": "code",
   "execution_count": 1,
   "id": "cac37bba",
   "metadata": {},
   "outputs": [],
   "source": [
    "import pandas as pd\n",
    "\n",
    "df = pd.read_csv(\"../datasets/scenarios_cleaned.csv\")"
   ]
  },
  {
   "cell_type": "code",
   "execution_count": 2,
   "id": "ceeebd89",
   "metadata": {},
   "outputs": [],
   "source": [
    "df[[\"category\", \"full_prompt\"]].to_csv(\"../datasets/full_dataset.csv\", index=False)"
   ]
  },
  {
   "cell_type": "code",
   "execution_count": 13,
   "id": "b6e8ff48",
   "metadata": {},
   "outputs": [],
   "source": [
    "train = df.groupby(\"category\").sample(16)\n",
    "\n",
    "train = train[[\"category\", \"full_prompt\"]]\n",
    "\n",
    "test = df.drop(train.index)\n",
    "\n",
    "train.to_csv(\"train.csv\", index=False)\n",
    "test.to_csv(\"test.csv\", index=False)"
   ]
  }
 ],
 "metadata": {
  "kernelspec": {
   "display_name": ".venv",
   "language": "python",
   "name": "python3"
  },
  "language_info": {
   "codemirror_mode": {
    "name": "ipython",
    "version": 3
   },
   "file_extension": ".py",
   "mimetype": "text/x-python",
   "name": "python",
   "nbconvert_exporter": "python",
   "pygments_lexer": "ipython3",
   "version": "3.10.12"
  }
 },
 "nbformat": 4,
 "nbformat_minor": 5
}
