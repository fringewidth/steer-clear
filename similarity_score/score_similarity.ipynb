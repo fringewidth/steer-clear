{
 "cells": [
  {
   "cell_type": "code",
   "execution_count": 1,
   "id": "b91b6fec",
   "metadata": {},
   "outputs": [
    {
     "name": "stderr",
     "output_type": "stream",
     "text": [
      "/home/jovyan/hrishik/playground/.venv/lib/python3.10/site-packages/tqdm/auto.py:21: TqdmWarning: IProgress not found. Please update jupyter and ipywidgets. See https://ipywidgets.readthedocs.io/en/stable/user_install.html\n",
      "  from .autonotebook import tqdm as notebook_tqdm\n",
      "Loading checkpoint shards: 100%|██████████| 4/4 [00:04<00:00,  1.07s/it]\n"
     ]
    }
   ],
   "source": [
    "import torch\n",
    "from transformers import AutoTokenizer, AutoModel\n",
    "from sklearn.metrics.pairwise import cosine_similarity\n",
    "import json\n",
    "from scipy.optimize import linear_sum_assignment\n",
    "import numpy as np\n",
    "\n",
    "phase = 1\n",
    "\n",
    "def load_model():\n",
    "    tokenizer_emb = AutoTokenizer.from_pretrained(\"Qwen/Qwen3-Embedding-8B\")\n",
    "    model_emb = AutoModel.from_pretrained(\"Qwen/Qwen3-Embedding-8B\").to(\"cuda\")\n",
    "    return tokenizer_emb, model_emb\n",
    "\n",
    "tokenizer_emb, model_emb = load_model()\n",
    "def get_embeddings(texts):\n",
    "    inputs = tokenizer_emb(texts, padding=True, truncation=True, return_tensors=\"pt\").to(\"cuda\")\n",
    "    with torch.no_grad():\n",
    "        outputs = model_emb(**inputs)\n",
    "        emb = outputs.last_hidden_state.mean(dim=1)\n",
    "    return emb.cpu().numpy()\n"
   ]
  },
  {
   "cell_type": "code",
   "execution_count": 2,
   "id": "2c780513",
   "metadata": {},
   "outputs": [],
   "source": [
    "def set_similarity_hungarian(similarity_matrix):\n",
    "    cost_matrix = -similarity_matrix\n",
    "    row_indices, col_indices = linear_sum_assignment(cost_matrix)\n",
    "    \n",
    "    optimal_sum = similarity_matrix[row_indices, col_indices].sum()\n",
    "    \n",
    "    n = len(similarity_matrix)\n",
    "    max_possible = n * 1.0 \n",
    "    \n",
    "    return optimal_sum / max_possible"
   ]
  },
  {
   "cell_type": "code",
   "execution_count": 3,
   "id": "e2c9c9e7",
   "metadata": {},
   "outputs": [],
   "source": [
    "results = []\n",
    "\n",
    "\n",
    "for ckpt in range(4, 21):\n",
    "    dir_path = f\"../outputs_interp/direction/phase1/ckpt_{ckpt}.json\"\n",
    "    lora_path = f\"../outputs_interp/phase1/ckpt_{ckpt}.json\"\n",
    "\n",
    "    with open(dir_path, \"r\") as f:\n",
    "        interp_direction = json.load(f)\n",
    "\n",
    "    with open(lora_path, \"r\") as f:\n",
    "        interp_lora = json.load(f)\n",
    "\n",
    "    arr_direction = [ i[\"theme\"] for i in interp_direction]\n",
    "    arr_lora = [i[\"theme\"] for i in interp_lora]\n",
    "\n",
    "    emb_lora = get_embeddings(arr_lora)\n",
    "    emb_direction = get_embeddings(arr_direction)\n",
    "\n",
    "    sim_matrix = cosine_similarity(emb_lora, emb_direction)\n",
    "\n",
    "    similarity_score = set_similarity_hungarian(sim_matrix)\n",
    "\n",
    "    max_idx = np.unravel_index(sim_matrix.argmax(), sim_matrix.shape)\n",
    "    min_idx = np.unravel_index(sim_matrix.argmin(), sim_matrix.shape)\n",
    "\n",
    "    max_score = sim_matrix[max_idx]\n",
    "    min_score = sim_matrix[min_idx]\n",
    "\n",
    "    results.append({\n",
    "        \"ckpt\": ckpt,\n",
    "        \"similarity_score\": float(similarity_score),\n",
    "        \"max_score\": float(max_score),\n",
    "        \"max_lora\": arr_lora[max_idx[0]],\n",
    "        \"max_direction\": interp_direction[max_idx[1]][\"theme\"],\n",
    "        \"min_score\": float(min_score),\n",
    "        \"min_lora\": arr_lora[min_idx[0]],\n",
    "        \"min_direction\": interp_direction[min_idx[1]][\"theme\"],\n",
    "    })\n"
   ]
  },
  {
   "cell_type": "code",
   "execution_count": 5,
   "id": "29e77774",
   "metadata": {},
   "outputs": [],
   "source": [
    "results.sort(key=lambda x: x[\"similarity_score\"], reverse=True)\n",
    "output_file = r\"../direction_rank.json\"\n",
    "with open(output_file, \"w\") as f:\n",
    "    json.dump(results, f, indent=4)"
   ]
  }
 ],
 "metadata": {
  "kernelspec": {
   "display_name": ".venv",
   "language": "python",
   "name": "python3"
  },
  "language_info": {
   "codemirror_mode": {
    "name": "ipython",
    "version": 3
   },
   "file_extension": ".py",
   "mimetype": "text/x-python",
   "name": "python",
   "nbconvert_exporter": "python",
   "pygments_lexer": "ipython3",
   "version": "3.10.12"
  }
 },
 "nbformat": 4,
 "nbformat_minor": 5
}
