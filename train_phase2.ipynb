{
 "cells": [
  {
   "cell_type": "code",
   "execution_count": null,
   "id": "ab634690",
   "metadata": {},
   "outputs": [
    {
     "name": "stderr",
     "output_type": "stream",
     "text": [
      "/home/jovyan/hrishik/playground/.venv/lib/python3.10/site-packages/tqdm/auto.py:21: TqdmWarning: IProgress not found. Please update jupyter and ipywidgets. See https://ipywidgets.readthedocs.io/en/stable/user_install.html\n",
      "  from .autonotebook import tqdm as notebook_tqdm\n"
     ]
    },
    {
     "name": "stdout",
     "output_type": "stream",
     "text": [
      "--- Loading Base Model and Tokenizer (once) ---\n"
     ]
    },
    {
     "name": "stderr",
     "output_type": "stream",
     "text": [
      "`torch_dtype` is deprecated! Use `dtype` instead!\n",
      "Loading checkpoint shards: 100%|██████████| 8/8 [00:55<00:00,  7.00s/it]\n"
     ]
    },
    {
     "name": "stdout",
     "output_type": "stream",
     "text": [
      "--- Base Model and Tokenizer Loaded ---\n",
      "\n",
      "################################################################################\n",
      "### STARTING TRAINING RUN 1 of 3 ###\n",
      "################################################################################\n",
      "Loading a new, randomly initialized 'model_tuned' for run 1...\n"
     ]
    },
    {
     "name": "stderr",
     "output_type": "stream",
     "text": [
      "Loading checkpoint shards: 100%|██████████| 8/8 [00:13<00:00,  1.64s/it]\n"
     ]
    },
    {
     "name": "stdout",
     "output_type": "stream",
     "text": [
      "Loading adapter weights from checkpoint: divergence_adapters_phase1/divergence_adapter_b12_run_20.pth\n",
      "Successfully loaded adapter checkpoint.\n",
      "Run 1: Shared LoRA adapter created with 20,480 parameters.\n",
      "Run 1: Using 192 samples for training (sampled from 384 total)\n",
      "Run 1: Starting divergence training...\n"
     ]
    },
    {
     "name": "stderr",
     "output_type": "stream",
     "text": [
      "Run 1 Epoch 1:   0%|          | 0/16 [00:00<?, ?it/s]"
     ]
    }
   ],
   "source": [
    "from train_commons import *\n",
    "\n",
    "phase = 2\n",
    "chosen_checkpoints_ids = [\n",
    "    # 14, 6, 10, \n",
    "    20, 1, 16\n",
    "]\n",
    "\n",
    "chosen_checkpoint_paths = [\n",
    "    f\"divergence_adapters_phase1/divergence_adapter_b12_run_{i}.pth\" for i in chosen_checkpoints_ids\n",
    "]\n",
    "\n",
    "class TrainingArgs:\n",
    "    model_id = \"Qwen/Qwen2.5-14B-Instruct\"\n",
    "    dataset_path = \"datasets/train.csv\"\n",
    "    output_dir = f\"./divergence_adapters_phase{phase}\"\n",
    "    lora_rank = 2\n",
    "    learning_rate = 1e-3\n",
    "    epochs = 2\n",
    "    batch_size = 12\n",
    "    df_sample_size = 192\n",
    "    max_new_tokens = 128\n",
    "    num_eval_samples = 2\n",
    "    latent_searches = len(chosen_checkpoints_ids)\n",
    "    lora_scaling = 2\n",
    "\n",
    "    alpha = 1.0 # KL Coefficient\n",
    "    beta = 0.3 # Consistency Coefficient\n",
    "    adapter_checkpoint_path = None\n",
    "\n",
    "    def set_adapter_checkpoint_path(self, checkpoint_path=None):\n",
    "        self.adapter_checkpoint_path = checkpoint_path\n",
    "\n",
    "if __name__ == '__main__':\n",
    "    args = TrainingArgs()\n",
    "    \n",
    "    # Load the base model and tokenizer once\n",
    "    model_base, tokenizer = load_base_model_and_tokenizer(args)\n",
    "    \n",
    "    # Main loop to repeat the training process\n",
    "    for i in range(1, args.latent_searches + 1):\n",
    "        args.set_adapter_checkpoint_path(chosen_checkpoint_paths[i-1])\n",
    "        print(\"\\n\" + \"#\"*80)\n",
    "        print(f\"### STARTING TRAINING RUN {i} of {args.latent_searches} ###\")\n",
    "        print(\"#\"*80)\n",
    "        \n",
    "        run_single_training_cycle(args, model_base, tokenizer, run_idx=i)\n",
    "        \n",
    "        print(f\"--- Finished Training Run {i} ---\")\n",
    "        print(\"Clearing memory before next run...\")\n",
    "        # Models and adapters from the function are out of scope, so garbage collection will clean them up\n",
    "        gc.collect()\n",
    "        torch.cuda.empty_cache()\n",
    "\n",
    "    print(\"\\nAll training runs completed.\")\n"
   ]
  }
 ],
 "metadata": {
  "kernelspec": {
   "display_name": ".venv",
   "language": "python",
   "name": "python3"
  },
  "language_info": {
   "codemirror_mode": {
    "name": "ipython",
    "version": 3
   },
   "file_extension": ".py",
   "mimetype": "text/x-python",
   "name": "python",
   "nbconvert_exporter": "python",
   "pygments_lexer": "ipython3",
   "version": "3.10.12"
  }
 },
 "nbformat": 4,
 "nbformat_minor": 5
}
