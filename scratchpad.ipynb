{
 "cells": [
  {
   "cell_type": "code",
   "execution_count": 1,
   "metadata": {},
   "outputs": [
    {
     "name": "stderr",
     "output_type": "stream",
     "text": [
      "/home/jovyan/hrishik/playground/.venv/lib/python3.10/site-packages/tqdm/auto.py:21: TqdmWarning: IProgress not found. Please update jupyter and ipywidgets. See https://ipywidgets.readthedocs.io/en/stable/user_install.html\n",
      "  from .autonotebook import tqdm as notebook_tqdm\n",
      "Loading checkpoint shards: 100%|██████████| 8/8 [00:06<00:00,  1.21it/s]\n"
     ]
    }
   ],
   "source": [
    "from transformers import AutoModelForCausalLM, AutoTokenizer\n",
    "\n",
    "model_name = \"Qwen/Qwen2.5-14B-Instruct\"\n",
    "model = AutoModelForCausalLM.from_pretrained(model_name, torch_dtype=\"auto\", device_map=\"auto\")\n",
    "tokenizer = AutoTokenizer.from_pretrained(model_name)\n"
   ]
  },
  {
   "cell_type": "code",
   "execution_count": 2,
   "metadata": {},
   "outputs": [
    {
     "name": "stderr",
     "output_type": "stream",
     "text": [
      "Loading checkpoint shards: 100%|██████████| 4/4 [00:04<00:00,  1.21s/it]\n"
     ]
    }
   ],
   "source": [
    "from transformers import AutoTokenizer, AutoModel\n",
    "\n",
    "tokenizer_emb = AutoTokenizer.from_pretrained(\"Qwen/Qwen3-Embedding-8B\")\n",
    "model_emb = AutoModel.from_pretrained(\"Qwen/Qwen3-Embedding-8B\").to('cuda')"
   ]
  },
  {
   "cell_type": "code",
   "execution_count": null,
   "metadata": {},
   "outputs": [
    {
     "data": {
      "text/plain": [
       "5120"
      ]
     },
     "execution_count": 41,
     "metadata": {},
     "output_type": "execute_result"
    }
   ],
   "source": [
    "# from transformers import StoppingCriteria, StoppingCriteriaList\n",
    "\n",
    "# class StopAtPunctuation(StoppingCriteria):\n",
    "#     def __call__(self, input_ids, scores, **kwargs):\n",
    "#         text = tokenizer.decode(input_ids[0], skip_special_tokens=True)\n",
    "#         return '</ai>' in text\n",
    "\n",
    "# stop_criteria = StoppingCriteriaList([StopAtPunctuation()])"
   ]
  },
  {
   "cell_type": "code",
   "execution_count": 3,
   "metadata": {},
   "outputs": [],
   "source": [
    "import torch\n",
    "torch.cuda.empty_cache()"
   ]
  },
  {
   "cell_type": "code",
   "execution_count": 4,
   "metadata": {},
   "outputs": [],
   "source": [
    "import torch\n",
    "# Enable PyTorch 2.x compilation\n",
    "model = torch.compile(model, mode=\"reduce-overhead\")  # or mode=\"reduce-overhead\" for faster iteration"
   ]
  },
  {
   "cell_type": "code",
   "execution_count": 14,
   "metadata": {},
   "outputs": [
    {
     "name": "stdout",
     "output_type": "stream",
     "text": [
      "Original output: \"Oh, there was this one guy who said, 'Are you a magician? Because whenever I look at you, everyone else disappears.' I mean, really? That's about as subtle and original as a signpost in a desert!\"\n",
      "Corrupted output: As a bartender, I've heard my fair share of pickup lines. One of the more humorous and somewhat pathetic ones goes something like this: \"Excuse me, do you have a map? Because I just got lost in your eyes.\" While it\n",
      "Cosine similarity of embeddings: 0.8714981079101562\n"
     ]
    }
   ],
   "source": [
    "import torch\n",
    "import torch.nn.functional as F\n",
    "\n",
    "def unregister_all_hooks(handles):\n",
    "    for h in handles:\n",
    "        h.remove()\n",
    "    handles.clear()\n",
    "\n",
    "handles = []\n",
    "\n",
    "device = 'cuda'\n",
    "hidden_size = model.config.hidden_size\n",
    "scale = 2.0\n",
    "\n",
    "# Initialize normalized vector to zero first\n",
    "v_normalized = torch.zeros(hidden_size, device=device, dtype=torch.bfloat16)\n",
    "\n",
    "def random_hook(module, input, output):\n",
    "    hidden = output[0]\n",
    "    v_scaled = (v_normalized * scale).to(hidden.device)\n",
    "    return (hidden + v_scaled,) + output[1:]\n",
    "\n",
    "for layer in model.model.layers:\n",
    "    handles.append(layer.register_forward_hook(random_hook))\n",
    "\n",
    "# prompt = \"\"\"\n",
    "# <|im_start|>system\n",
    "# What follows is a conversation between a person and their assistant.\n",
    "# <|im_end|>\n",
    "# <|im_start|>user\n",
    "# Do you think we exist because of a higher power?\n",
    "# <|im_end|>\n",
    "# <|im_start|>assistant\n",
    "# \"\"\"\n",
    "\n",
    "prompt = \"\"\"\n",
    "\"Bartenders cleaning up after a busy night, having observed human nature at its most uninhibited for hours.\",\"<|im_start|>bartender1\n",
    "What's the most pathetic pickup line you overheard tonight?\n",
    "<|im_end|>\"\n",
    "<|im_start|>bartender2\n",
    "\"\"\"\n",
    "\n",
    "inputs = tokenizer(prompt, return_tensors=\"pt\").to(model.device)\n",
    "\n",
    "# Original output with hooks inactive (v_normalized = 0)\n",
    "orig_outputs = model.generate(\n",
    "    **inputs,\n",
    "    max_new_tokens=50,\n",
    "    eos_token_id=tokenizer.convert_tokens_to_ids(\"<|im_end|>\")\n",
    ")\n",
    "generated_tokens = orig_outputs[0][inputs['input_ids'].shape[1]:]\n",
    "text_orig = tokenizer.decode(generated_tokens, skip_special_tokens=True)\n",
    "print(\"Original output:\", text_orig)\n",
    "\n",
    "# Set v to random and normalize\n",
    "v = torch.randn(hidden_size, device=device, dtype=torch.bfloat16).unsqueeze(0).unsqueeze(0)\n",
    "v_norm = v.norm(p=2)\n",
    "v_normalized = (v / v_norm).to(torch.bfloat16).to(device)\n",
    "\n",
    "# Corrupted output with hooks active\n",
    "hook_outputs = model.generate(\n",
    "    **inputs,\n",
    "    max_new_tokens=50,\n",
    "    eos_token_id=tokenizer.convert_tokens_to_ids(\"<|im_end|>\")\n",
    ")\n",
    "generated_tokens_hook = hook_outputs[0][inputs['input_ids'].shape[1]:]\n",
    "text_with_hooks = tokenizer.decode(generated_tokens_hook, skip_special_tokens=True)\n",
    "print(\"Corrupted output:\", text_with_hooks)\n",
    "\n",
    "# Compute embeddings\n",
    "emb_inputs_orig = tokenizer_emb(text_orig, return_tensors=\"pt\").to(device)\n",
    "emb_inputs_hook = tokenizer_emb(text_with_hooks, return_tensors=\"pt\").to(device)\n",
    "\n",
    "\n",
    "my_inputs_1 = tokenizer_emb(\"Nope, I'm barely employable today.\", return_tensors=\"pt\").to(device)\n",
    "# my_inputs_2 = tokenizer_emb(\"adgadsfasdg\", return_tensors=\"pt\").to(device)\n",
    "\n",
    "with torch.no_grad():\n",
    "    emb_orig = model_emb(**emb_inputs_orig).last_hidden_state.mean(dim=1)\n",
    "    emb_hook = model_emb(**emb_inputs_hook).last_hidden_state.mean(dim=1)\n",
    "    # my_emb_1 = model_emb(**my_inputs_1).last_hidden_state.mean(dim=1)\n",
    "    # my_emb_2 = model_emb(**my_inputs_2).last_hidden_state.mean(dim=1)\n",
    "\n",
    "\n",
    "cos_sim = F.cosine_similarity(emb_orig, emb_hook)\n",
    "# cos_sim = F.cosine_similarity(emb_orig, my_emb_1)\n",
    "# cos_sim = F.cosine_similarity(my_emb_1, my_emb_2)\n",
    "print(\"Cosine similarity of embeddings:\", cos_sim.item())\n",
    "\n",
    "unregister_all_hooks(handles)"
   ]
  }
 ],
 "metadata": {
  "kernelspec": {
   "display_name": ".venv",
   "language": "python",
   "name": "python3"
  },
  "language_info": {
   "codemirror_mode": {
    "name": "ipython",
    "version": 3
   },
   "file_extension": ".py",
   "mimetype": "text/x-python",
   "name": "python",
   "nbconvert_exporter": "python",
   "pygments_lexer": "ipython3",
   "version": "3.10.12"
  }
 },
 "nbformat": 4,
 "nbformat_minor": 2
}
